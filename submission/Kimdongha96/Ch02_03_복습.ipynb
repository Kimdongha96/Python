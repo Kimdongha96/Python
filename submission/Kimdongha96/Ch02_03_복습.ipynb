{
  "nbformat": 4,
  "nbformat_minor": 0,
  "metadata": {
    "colab": {
      "provenance": [],
      "authorship_tag": "ABX9TyPzt19ZO9TbCY/Rja7rh7je",
      "include_colab_link": true
    },
    "kernelspec": {
      "name": "python3",
      "display_name": "Python 3"
    },
    "language_info": {
      "name": "python"
    }
  },
  "cells": [
    {
      "cell_type": "markdown",
      "metadata": {
        "id": "view-in-github",
        "colab_type": "text"
      },
      "source": [
        "<a href=\"https://colab.research.google.com/github/Kimdongha96/Python/blob/main/submission/Kimdongha96/Ch02_03_%EB%B3%B5%EC%8A%B5.ipynb\" target=\"_parent\"><img src=\"https://colab.research.google.com/assets/colab-badge.svg\" alt=\"Open In Colab\"/></a>"
      ]
    },
    {
      "cell_type": "markdown",
      "source": [
        "# 리스트 응용"
      ],
      "metadata": {
        "id": "WBcdUbENTHEZ"
      }
    },
    {
      "cell_type": "code",
      "execution_count": 1,
      "metadata": {
        "id": "caFroGaRSKEI"
      },
      "outputs": [],
      "source": [
        "country = [] # 빈 리스트"
      ]
    },
    {
      "cell_type": "code",
      "source": [
        "country.append('대한민국')\n",
        "country"
      ],
      "metadata": {
        "colab": {
          "base_uri": "https://localhost:8080/"
        },
        "id": "qrdCRjvoTQAi",
        "outputId": "4104572b-a8e8-4e10-f253-b6bf952f1a26"
      },
      "execution_count": 3,
      "outputs": [
        {
          "output_type": "execute_result",
          "data": {
            "text/plain": [
              "['대한민국', '대한민국']"
            ]
          },
          "metadata": {},
          "execution_count": 3
        }
      ]
    },
    {
      "cell_type": "code",
      "source": [
        "country2 = ['중국']"
      ],
      "metadata": {
        "id": "orKvGFjSTfGR"
      },
      "execution_count": 4,
      "outputs": []
    },
    {
      "cell_type": "code",
      "source": [
        "country += country2\n",
        "country"
      ],
      "metadata": {
        "colab": {
          "base_uri": "https://localhost:8080/"
        },
        "id": "Azf529b5TmEA",
        "outputId": "d269f47d-e8b8-449f-a1c2-afb53f3173f8"
      },
      "execution_count": 7,
      "outputs": [
        {
          "output_type": "execute_result",
          "data": {
            "text/plain": [
              "['대한민국', '대한민국', '중국', '중국']"
            ]
          },
          "metadata": {},
          "execution_count": 7
        }
      ]
    },
    {
      "cell_type": "code",
      "source": [
        "country3 = ['일본']\n",
        "country3"
      ],
      "metadata": {
        "colab": {
          "base_uri": "https://localhost:8080/"
        },
        "id": "0KGq8lT8T2ca",
        "outputId": "cc531302-ce8b-4bc2-c170-37bb04f0084b"
      },
      "execution_count": 9,
      "outputs": [
        {
          "output_type": "execute_result",
          "data": {
            "text/plain": [
              "['일본']"
            ]
          },
          "metadata": {},
          "execution_count": 9
        }
      ]
    },
    {
      "cell_type": "code",
      "source": [
        "country.extend(country3)\n",
        "country"
      ],
      "metadata": {
        "colab": {
          "base_uri": "https://localhost:8080/"
        },
        "id": "lUnrIXYNT5sW",
        "outputId": "fe2a52ae-8978-4bed-dbfb-a6300eee1072"
      },
      "execution_count": 11,
      "outputs": [
        {
          "output_type": "execute_result",
          "data": {
            "text/plain": [
              "['대한민국', '대한민국', '중국', '중국', '일본', '일본']"
            ]
          },
          "metadata": {},
          "execution_count": 11
        }
      ]
    },
    {
      "cell_type": "code",
      "source": [
        "country4 = [\"프랑스\",\"영국\",\"독일\"]\n",
        "country.extend(country4)\n",
        "country"
      ],
      "metadata": {
        "colab": {
          "base_uri": "https://localhost:8080/"
        },
        "id": "XpyTOxDQUEeh",
        "outputId": "e4263d6f-33ac-4345-add2-c04c5b7f56ee"
      },
      "execution_count": 13,
      "outputs": [
        {
          "output_type": "execute_result",
          "data": {
            "text/plain": [
              "['대한민국', '대한민국', '중국', '중국', '일본', '일본', '프랑스', '영국', '독일', '프랑스', '영국', '독일']"
            ]
          },
          "metadata": {},
          "execution_count": 13
        }
      ]
    },
    {
      "cell_type": "code",
      "source": [
        "country.append(\"케냐\")\n",
        "country"
      ],
      "metadata": {
        "colab": {
          "base_uri": "https://localhost:8080/"
        },
        "id": "_DB5lp4RUQ0q",
        "outputId": "f0f53465-8a0b-4cb6-edfa-3317bfdea2e1"
      },
      "execution_count": 14,
      "outputs": [
        {
          "output_type": "execute_result",
          "data": {
            "text/plain": [
              "['대한민국',\n",
              " '대한민국',\n",
              " '중국',\n",
              " '중국',\n",
              " '일본',\n",
              " '일본',\n",
              " '프랑스',\n",
              " '영국',\n",
              " '독일',\n",
              " '프랑스',\n",
              " '영국',\n",
              " '독일',\n",
              " '케냐']"
            ]
          },
          "metadata": {},
          "execution_count": 14
        }
      ]
    },
    {
      "cell_type": "code",
      "source": [
        "country.insert(3,'아르헨티나')\n",
        "country"
      ],
      "metadata": {
        "colab": {
          "base_uri": "https://localhost:8080/"
        },
        "id": "NKh0O6oZUVqR",
        "outputId": "716fd652-ca1a-466f-a274-2fb2385e660b"
      },
      "execution_count": 17,
      "outputs": [
        {
          "output_type": "execute_result",
          "data": {
            "text/plain": [
              "['브라질',\n",
              " '대한민국',\n",
              " '대한민국',\n",
              " '아르헨티나',\n",
              " '아르헨티나',\n",
              " '중국',\n",
              " '중국',\n",
              " '일본',\n",
              " '일본',\n",
              " '프랑스',\n",
              " '영국',\n",
              " '독일',\n",
              " '프랑스',\n",
              " '영국',\n",
              " '독일',\n",
              " '케냐']"
            ]
          },
          "metadata": {},
          "execution_count": 17
        }
      ]
    },
    {
      "cell_type": "code",
      "source": [
        "country[4:4] = [\"미국\",\"캐나다\",\"멕시코\"]"
      ],
      "metadata": {
        "id": "9QPJMuRMUsDO"
      },
      "execution_count": 18,
      "outputs": []
    },
    {
      "cell_type": "code",
      "source": [
        "country"
      ],
      "metadata": {
        "colab": {
          "base_uri": "https://localhost:8080/"
        },
        "id": "ptmXihMIU2rr",
        "outputId": "917734b4-122a-4357-fa6d-bd6c37940cb8"
      },
      "execution_count": 20,
      "outputs": [
        {
          "output_type": "execute_result",
          "data": {
            "text/plain": [
              "['브라질',\n",
              " '대한민국',\n",
              " '대한민국',\n",
              " '아르헨티나',\n",
              " '미국',\n",
              " '캐나다',\n",
              " '멕시코',\n",
              " '아르헨티나',\n",
              " '중국',\n",
              " '중국',\n",
              " '일본',\n",
              " '일본',\n",
              " '프랑스',\n",
              " '영국',\n",
              " '독일',\n",
              " '프랑스',\n",
              " '영국',\n",
              " '독일',\n",
              " '케냐']"
            ]
          },
          "metadata": {},
          "execution_count": 20
        }
      ]
    },
    {
      "cell_type": "code",
      "source": [
        "country.pop()"
      ],
      "metadata": {
        "colab": {
          "base_uri": "https://localhost:8080/",
          "height": 35
        },
        "id": "JJ-Pc6IeVDKJ",
        "outputId": "3eb7e0e9-2235-47d2-e9d2-b6d36c782886"
      },
      "execution_count": 21,
      "outputs": [
        {
          "output_type": "execute_result",
          "data": {
            "text/plain": [
              "'케냐'"
            ],
            "application/vnd.google.colaboratory.intrinsic+json": {
              "type": "string"
            }
          },
          "metadata": {},
          "execution_count": 21
        }
      ]
    },
    {
      "cell_type": "code",
      "source": [
        "print(country[-1])\n",
        "del country[-1]"
      ],
      "metadata": {
        "colab": {
          "base_uri": "https://localhost:8080/"
        },
        "id": "uFFUt7BgVpwI",
        "outputId": "85dfe0fa-a1c6-4b4c-f5de-55e7fb45a8c9"
      },
      "execution_count": 23,
      "outputs": [
        {
          "output_type": "stream",
          "name": "stdout",
          "text": [
            "영국\n"
          ]
        }
      ]
    },
    {
      "cell_type": "code",
      "source": [
        "country # \"최근 해외여행 발권 리스트\""
      ],
      "metadata": {
        "colab": {
          "base_uri": "https://localhost:8080/"
        },
        "id": "CfQW2snpWQCb",
        "outputId": "f9b664a4-4362-4896-f884-3bd44b6a0fd3"
      },
      "execution_count": 25,
      "outputs": [
        {
          "output_type": "execute_result",
          "data": {
            "text/plain": [
              "['브라질',\n",
              " '대한민국',\n",
              " '대한민국',\n",
              " '아르헨티나',\n",
              " '미국',\n",
              " '캐나다',\n",
              " '멕시코',\n",
              " '아르헨티나',\n",
              " '중국',\n",
              " '중국',\n",
              " '일본',\n",
              " '일본',\n",
              " '프랑스',\n",
              " '영국',\n",
              " '독일',\n",
              " '프랑스']"
            ]
          },
          "metadata": {},
          "execution_count": 25
        }
      ]
    },
    {
      "cell_type": "code",
      "source": [
        "recent = country.pop()\n",
        "recent, country"
      ],
      "metadata": {
        "colab": {
          "base_uri": "https://localhost:8080/"
        },
        "id": "0JdyNxfwWpv5",
        "outputId": "44182ad2-e1ec-4b59-be8f-632814901454"
      },
      "execution_count": 27,
      "outputs": [
        {
          "output_type": "execute_result",
          "data": {
            "text/plain": [
              "('독일',\n",
              " ['브라질',\n",
              "  '대한민국',\n",
              "  '대한민국',\n",
              "  '아르헨티나',\n",
              "  '미국',\n",
              "  '캐나다',\n",
              "  '멕시코',\n",
              "  '아르헨티나',\n",
              "  '중국',\n",
              "  '중국',\n",
              "  '일본',\n",
              "  '일본',\n",
              "  '프랑스',\n",
              "  '영국'])"
            ]
          },
          "metadata": {},
          "execution_count": 27
        }
      ]
    },
    {
      "cell_type": "code",
      "source": [
        "recent = country.pop(1)\n",
        "recent, country"
      ],
      "metadata": {
        "colab": {
          "base_uri": "https://localhost:8080/"
        },
        "id": "r9qmjSsxW51Q",
        "outputId": "169713db-a60f-4dcc-9dbb-f91cf5c3c74e"
      },
      "execution_count": 29,
      "outputs": [
        {
          "output_type": "execute_result",
          "data": {
            "text/plain": [
              "('대한민국',\n",
              " ['브라질',\n",
              "  '아르헨티나',\n",
              "  '미국',\n",
              "  '캐나다',\n",
              "  '멕시코',\n",
              "  '아르헨티나',\n",
              "  '중국',\n",
              "  '중국',\n",
              "  '일본',\n",
              "  '일본',\n",
              "  '프랑스',\n",
              "  '영국'])"
            ]
          },
          "metadata": {},
          "execution_count": 29
        }
      ]
    },
    {
      "cell_type": "code",
      "source": [
        "country.remove('중국')\n",
        "country"
      ],
      "metadata": {
        "colab": {
          "base_uri": "https://localhost:8080/",
          "height": 190
        },
        "id": "D43ygAbrXCRe",
        "outputId": "04490e9b-8d51-47c3-f912-55c3a4cfe1c9"
      },
      "execution_count": 35,
      "outputs": [
        {
          "output_type": "error",
          "ename": "ValueError",
          "evalue": "ignored",
          "traceback": [
            "\u001b[0;31m---------------------------------------------------------------------------\u001b[0m",
            "\u001b[0;31mValueError\u001b[0m                                Traceback (most recent call last)",
            "\u001b[0;32m<ipython-input-35-78205e7cf776>\u001b[0m in \u001b[0;36m<module>\u001b[0;34m\u001b[0m\n\u001b[0;32m----> 1\u001b[0;31m \u001b[0mcountry\u001b[0m\u001b[0;34m.\u001b[0m\u001b[0mremove\u001b[0m\u001b[0;34m(\u001b[0m\u001b[0;34m'중국'\u001b[0m\u001b[0;34m)\u001b[0m\u001b[0;34m\u001b[0m\u001b[0;34m\u001b[0m\u001b[0m\n\u001b[0m\u001b[1;32m      2\u001b[0m \u001b[0mcountry\u001b[0m\u001b[0;34m\u001b[0m\u001b[0;34m\u001b[0m\u001b[0m\n",
            "\u001b[0;31mValueError\u001b[0m: list.remove(x): x not in list"
          ]
        }
      ]
    },
    {
      "cell_type": "code",
      "source": [
        "country.remove('영국')\n",
        "country"
      ],
      "metadata": {
        "colab": {
          "base_uri": "https://localhost:8080/",
          "height": 190
        },
        "id": "UHJuniThXYji",
        "outputId": "b8ba6a95-c638-4526-a501-86106479e1cc"
      },
      "execution_count": 39,
      "outputs": [
        {
          "output_type": "error",
          "ename": "ValueError",
          "evalue": "ignored",
          "traceback": [
            "\u001b[0;31m---------------------------------------------------------------------------\u001b[0m",
            "\u001b[0;31mValueError\u001b[0m                                Traceback (most recent call last)",
            "\u001b[0;32m<ipython-input-39-4c32b50ef559>\u001b[0m in \u001b[0;36m<module>\u001b[0;34m\u001b[0m\n\u001b[0;32m----> 1\u001b[0;31m \u001b[0mcountry\u001b[0m\u001b[0;34m.\u001b[0m\u001b[0mremove\u001b[0m\u001b[0;34m(\u001b[0m\u001b[0;34m'영국'\u001b[0m\u001b[0;34m)\u001b[0m\u001b[0;34m\u001b[0m\u001b[0;34m\u001b[0m\u001b[0m\n\u001b[0m\u001b[1;32m      2\u001b[0m \u001b[0mcountry\u001b[0m\u001b[0;34m\u001b[0m\u001b[0;34m\u001b[0m\u001b[0m\n",
            "\u001b[0;31mValueError\u001b[0m: list.remove(x): x not in list"
          ]
        }
      ]
    },
    {
      "cell_type": "code",
      "source": [
        "country.insert(2,'독일')\n",
        "country.append('독일')\n",
        "country"
      ],
      "metadata": {
        "colab": {
          "base_uri": "https://localhost:8080/"
        },
        "id": "3M0aFHNpXiGf",
        "outputId": "ba75f469-0253-4f33-dce0-ce963aa72aba"
      },
      "execution_count": 41,
      "outputs": [
        {
          "output_type": "execute_result",
          "data": {
            "text/plain": [
              "['브라질',\n",
              " '아르헨티나',\n",
              " '독일',\n",
              " '독일',\n",
              " '미국',\n",
              " '캐나다',\n",
              " '멕시코',\n",
              " '아르헨티나',\n",
              " '일본',\n",
              " '프랑스',\n",
              " '독일',\n",
              " '독일']"
            ]
          },
          "metadata": {},
          "execution_count": 41
        }
      ]
    },
    {
      "cell_type": "code",
      "source": [
        "country.remove('독일')\n",
        "country"
      ],
      "metadata": {
        "colab": {
          "base_uri": "https://localhost:8080/"
        },
        "id": "Jek3holWX3LZ",
        "outputId": "11982293-e207-4658-b354-0b145578733b"
      },
      "execution_count": 42,
      "outputs": [
        {
          "output_type": "execute_result",
          "data": {
            "text/plain": [
              "['브라질', '아르헨티나', '독일', '미국', '캐나다', '멕시코', '아르헨티나', '일본', '프랑스', '독일', '독일']"
            ]
          },
          "metadata": {},
          "execution_count": 42
        }
      ]
    },
    {
      "cell_type": "code",
      "source": [
        "country.remove(\"독일\")\n",
        "country"
      ],
      "metadata": {
        "colab": {
          "base_uri": "https://localhost:8080/"
        },
        "id": "eUapzdgeX6jh",
        "outputId": "46e7b185-e20d-4308-a78c-525955679e5e"
      },
      "execution_count": 46,
      "outputs": [
        {
          "output_type": "execute_result",
          "data": {
            "text/plain": [
              "['브라질', '아르헨티나', '미국', '캐나다', '멕시코', '아르헨티나', '일본', '프랑스']"
            ]
          },
          "metadata": {},
          "execution_count": 46
        }
      ]
    },
    {
      "cell_type": "code",
      "source": [
        "# 캐나다 앞에 누락된 손님이 존재한다 -> 미국\n",
        "# 캐나다의 인덱스를 알아서, 그 인덱스에 '미국'을 insert 시켜줘야함 [i:i]\n",
        "country.index('캐나다')"
      ],
      "metadata": {
        "colab": {
          "base_uri": "https://localhost:8080/"
        },
        "id": "eGlHAIsnYFCa",
        "outputId": "d2cf00f2-fe72-4658-e1c7-ef6c8a995dec"
      },
      "execution_count": 47,
      "outputs": [
        {
          "output_type": "execute_result",
          "data": {
            "text/plain": [
              "3"
            ]
          },
          "metadata": {},
          "execution_count": 47
        }
      ]
    },
    {
      "cell_type": "code",
      "source": [
        "country.insert(2,'미국')\n",
        "country"
      ],
      "metadata": {
        "colab": {
          "base_uri": "https://localhost:8080/"
        },
        "id": "M54fcSmMYTsL",
        "outputId": "fb0f4660-82f1-44b2-b697-607e8bcf9273"
      },
      "execution_count": 48,
      "outputs": [
        {
          "output_type": "execute_result",
          "data": {
            "text/plain": [
              "['브라질', '아르헨티나', '미국', '미국', '캐나다', '멕시코', '아르헨티나', '일본', '프랑스']"
            ]
          },
          "metadata": {},
          "execution_count": 48
        }
      ]
    },
    {
      "cell_type": "code",
      "source": [
        "country.remove('미국')\n",
        "country"
      ],
      "metadata": {
        "colab": {
          "base_uri": "https://localhost:8080/"
        },
        "id": "L4ikfvB9YdN9",
        "outputId": "0786f3ba-13ab-4dfa-b7c1-d1e472e9afa3"
      },
      "execution_count": 49,
      "outputs": [
        {
          "output_type": "execute_result",
          "data": {
            "text/plain": [
              "['브라질', '아르헨티나', '미국', '캐나다', '멕시코', '아르헨티나', '일본', '프랑스']"
            ]
          },
          "metadata": {},
          "execution_count": 49
        }
      ]
    },
    {
      "cell_type": "code",
      "source": [
        "country.extend(['몰디브'] * 10)\n",
        "country"
      ],
      "metadata": {
        "colab": {
          "base_uri": "https://localhost:8080/"
        },
        "id": "EM_BAOCjYhgm",
        "outputId": "44653240-7c35-49d2-fbef-d94525b6e334"
      },
      "execution_count": 51,
      "outputs": [
        {
          "output_type": "execute_result",
          "data": {
            "text/plain": [
              "['브라질',\n",
              " '아르헨티나',\n",
              " '미국',\n",
              " '캐나다',\n",
              " '멕시코',\n",
              " '아르헨티나',\n",
              " '일본',\n",
              " '프랑스',\n",
              " '몰디브',\n",
              " '몰디브',\n",
              " '몰디브',\n",
              " '몰디브',\n",
              " '몰디브',\n",
              " '몰디브',\n",
              " '몰디브',\n",
              " '몰디브',\n",
              " '몰디브',\n",
              " '몰디브',\n",
              " '몰디브']"
            ]
          },
          "metadata": {},
          "execution_count": 51
        }
      ]
    },
    {
      "cell_type": "code",
      "source": [
        "import random\n",
        "\n",
        "random.randint(1,20)"
      ],
      "metadata": {
        "colab": {
          "base_uri": "https://localhost:8080/"
        },
        "id": "ohRD1JXhYstp",
        "outputId": "77a73dc8-d594-4993-b081-80b86a03cb24"
      },
      "execution_count": 52,
      "outputs": [
        {
          "output_type": "execute_result",
          "data": {
            "text/plain": [
              "14"
            ]
          },
          "metadata": {},
          "execution_count": 52
        }
      ]
    },
    {
      "cell_type": "code",
      "source": [
        "country.extend(['괌'] * random.randint(50,200))\n",
        "country"
      ],
      "metadata": {
        "colab": {
          "base_uri": "https://localhost:8080/"
        },
        "id": "2XkZQAOxYxUO",
        "outputId": "ed5aab76-1264-450c-8dac-9aa36e64e96d"
      },
      "execution_count": 54,
      "outputs": [
        {
          "output_type": "execute_result",
          "data": {
            "text/plain": [
              "['브라질',\n",
              " '아르헨티나',\n",
              " '미국',\n",
              " '캐나다',\n",
              " '멕시코',\n",
              " '아르헨티나',\n",
              " '일본',\n",
              " '프랑스',\n",
              " '몰디브',\n",
              " '몰디브',\n",
              " '몰디브',\n",
              " '몰디브',\n",
              " '몰디브',\n",
              " '몰디브',\n",
              " '몰디브',\n",
              " '몰디브',\n",
              " '몰디브',\n",
              " '몰디브',\n",
              " '몰디브',\n",
              " '괌',\n",
              " '괌',\n",
              " '괌',\n",
              " '괌',\n",
              " '괌',\n",
              " '괌',\n",
              " '괌',\n",
              " '괌',\n",
              " '괌',\n",
              " '괌',\n",
              " '괌',\n",
              " '괌',\n",
              " '괌',\n",
              " '괌',\n",
              " '괌',\n",
              " '괌',\n",
              " '괌',\n",
              " '괌',\n",
              " '괌',\n",
              " '괌',\n",
              " '괌',\n",
              " '괌',\n",
              " '괌',\n",
              " '괌',\n",
              " '괌',\n",
              " '괌',\n",
              " '괌',\n",
              " '괌',\n",
              " '괌',\n",
              " '괌',\n",
              " '괌',\n",
              " '괌',\n",
              " '괌',\n",
              " '괌',\n",
              " '괌',\n",
              " '괌',\n",
              " '괌',\n",
              " '괌',\n",
              " '괌',\n",
              " '괌',\n",
              " '괌',\n",
              " '괌',\n",
              " '괌',\n",
              " '괌',\n",
              " '괌',\n",
              " '괌',\n",
              " '괌',\n",
              " '괌',\n",
              " '괌',\n",
              " '괌',\n",
              " '괌',\n",
              " '괌',\n",
              " '괌',\n",
              " '괌',\n",
              " '괌',\n",
              " '괌',\n",
              " '괌',\n",
              " '괌',\n",
              " '괌',\n",
              " '괌',\n",
              " '괌',\n",
              " '괌',\n",
              " '괌',\n",
              " '괌',\n",
              " '괌',\n",
              " '괌',\n",
              " '괌',\n",
              " '괌']"
            ]
          },
          "metadata": {},
          "execution_count": 54
        }
      ]
    },
    {
      "cell_type": "code",
      "source": [
        "country.count('괌')"
      ],
      "metadata": {
        "colab": {
          "base_uri": "https://localhost:8080/"
        },
        "id": "kN4BGSOUZAI6",
        "outputId": "6a94381e-0b24-4f5c-f6ab-fee0f5afaac9"
      },
      "execution_count": 55,
      "outputs": [
        {
          "output_type": "execute_result",
          "data": {
            "text/plain": [
              "68"
            ]
          },
          "metadata": {},
          "execution_count": 55
        }
      ]
    },
    {
      "cell_type": "code",
      "source": [
        "country = country[0:7:1]\n",
        "country]"
      ],
      "metadata": {
        "colab": {
          "base_uri": "https://localhost:8080/"
        },
        "id": "J109QZ9hY57-",
        "outputId": "a77836d4-6c86-4ffb-aad5-ddecfec4935f"
      },
      "execution_count": 56,
      "outputs": [
        {
          "output_type": "execute_result",
          "data": {
            "text/plain": [
              "['브라질', '아르헨티나', '미국', '캐나다', '멕시코', '아르헨티나', '일본']"
            ]
          },
          "metadata": {},
          "execution_count": 56
        }
      ]
    },
    {
      "cell_type": "code",
      "source": [
        "country.reverse()\n",
        "country"
      ],
      "metadata": {
        "colab": {
          "base_uri": "https://localhost:8080/"
        },
        "id": "FCCEoz2IcLgH",
        "outputId": "c89282c3-73ba-422e-d6b6-d93badaf220e"
      },
      "execution_count": 57,
      "outputs": [
        {
          "output_type": "execute_result",
          "data": {
            "text/plain": [
              "['일본', '아르헨티나', '멕시코', '캐나다', '미국', '아르헨티나', '브라질']"
            ]
          },
          "metadata": {},
          "execution_count": 57
        }
      ]
    },
    {
      "cell_type": "code",
      "source": [
        "list(reversed(country))"
      ],
      "metadata": {
        "colab": {
          "base_uri": "https://localhost:8080/"
        },
        "id": "k9flzowWcbhz",
        "outputId": "9fd9df99-8f80-483f-b0c0-95779b2edced"
      },
      "execution_count": 58,
      "outputs": [
        {
          "output_type": "execute_result",
          "data": {
            "text/plain": [
              "['브라질', '아르헨티나', '미국', '캐나다', '멕시코', '아르헨티나', '일본']"
            ]
          },
          "metadata": {},
          "execution_count": 58
        }
      ]
    },
    {
      "cell_type": "code",
      "source": [
        "country[::-1]"
      ],
      "metadata": {
        "colab": {
          "base_uri": "https://localhost:8080/"
        },
        "id": "B9BJc73GcmA_",
        "outputId": "512ca7ce-c656-4006-8b3a-2928873a3761"
      },
      "execution_count": 60,
      "outputs": [
        {
          "output_type": "execute_result",
          "data": {
            "text/plain": [
              "['브라질', '아르헨티나', '미국', '캐나다', '멕시코', '아르헨티나', '일본']"
            ]
          },
          "metadata": {},
          "execution_count": 60
        }
      ]
    },
    {
      "cell_type": "code",
      "source": [
        "# 정렬 -> 오름차순, 내림차순\n",
        "numbers = [random.randint(20,200) for _ in range(10)]\n",
        "numbers"
      ],
      "metadata": {
        "colab": {
          "base_uri": "https://localhost:8080/"
        },
        "id": "SOuVEAPid5Y8",
        "outputId": "31ceab8d-02f4-4d51-84b2-2ecb974b2f70"
      },
      "execution_count": 64,
      "outputs": [
        {
          "output_type": "execute_result",
          "data": {
            "text/plain": [
              "[141, 170, 109, 108, 143, 196, 27, 182, 192, 108]"
            ]
          },
          "metadata": {},
          "execution_count": 64
        }
      ]
    },
    {
      "cell_type": "code",
      "source": [
        "numbers = numbers.copy()"
      ],
      "metadata": {
        "id": "1Q6KE8EZeieJ"
      },
      "execution_count": 65,
      "outputs": []
    },
    {
      "cell_type": "code",
      "source": [
        "numbers2.sort() # reverse=False\n",
        "numbers2"
      ],
      "metadata": {
        "colab": {
          "base_uri": "https://localhost:8080/",
          "height": 190
        },
        "id": "g0A3lGzxewbc",
        "outputId": "c4b6dc10-4620-4c99-907a-69a405405fad"
      },
      "execution_count": 66,
      "outputs": [
        {
          "output_type": "error",
          "ename": "NameError",
          "evalue": "ignored",
          "traceback": [
            "\u001b[0;31m---------------------------------------------------------------------------\u001b[0m",
            "\u001b[0;31mNameError\u001b[0m                                 Traceback (most recent call last)",
            "\u001b[0;32m<ipython-input-66-6a49af60676e>\u001b[0m in \u001b[0;36m<module>\u001b[0;34m\u001b[0m\n\u001b[0;32m----> 1\u001b[0;31m \u001b[0mnumbers2\u001b[0m\u001b[0;34m.\u001b[0m\u001b[0msort\u001b[0m\u001b[0;34m(\u001b[0m\u001b[0;34m)\u001b[0m\u001b[0;34m\u001b[0m\u001b[0;34m\u001b[0m\u001b[0m\n\u001b[0m\u001b[1;32m      2\u001b[0m \u001b[0mnumbers2\u001b[0m\u001b[0;34m\u001b[0m\u001b[0;34m\u001b[0m\u001b[0m\n",
            "\u001b[0;31mNameError\u001b[0m: name 'numbers2' is not defined"
          ]
        }
      ]
    },
    {
      "cell_type": "code",
      "source": [
        "numbers2.sort(reverse=True)\n",
        "numbers2"
      ],
      "metadata": {
        "colab": {
          "base_uri": "https://localhost:8080/",
          "height": 190
        },
        "id": "cSvGPsdoey5O",
        "outputId": "91fad9e9-238e-400d-b9bf-157f32ffb537"
      },
      "execution_count": 68,
      "outputs": [
        {
          "output_type": "error",
          "ename": "NameError",
          "evalue": "ignored",
          "traceback": [
            "\u001b[0;31m---------------------------------------------------------------------------\u001b[0m",
            "\u001b[0;31mNameError\u001b[0m                                 Traceback (most recent call last)",
            "\u001b[0;32m<ipython-input-68-34805879b1ee>\u001b[0m in \u001b[0;36m<module>\u001b[0;34m\u001b[0m\n\u001b[0;32m----> 1\u001b[0;31m \u001b[0mnumbers2\u001b[0m\u001b[0;34m.\u001b[0m\u001b[0msort\u001b[0m\u001b[0;34m(\u001b[0m\u001b[0mreverse\u001b[0m\u001b[0;34m=\u001b[0m\u001b[0;32mTrue\u001b[0m\u001b[0;34m)\u001b[0m\u001b[0;34m\u001b[0m\u001b[0;34m\u001b[0m\u001b[0m\n\u001b[0m\u001b[1;32m      2\u001b[0m \u001b[0mnumbers2\u001b[0m\u001b[0;34m\u001b[0m\u001b[0;34m\u001b[0m\u001b[0m\n",
            "\u001b[0;31mNameError\u001b[0m: name 'numbers2' is not defined"
          ]
        }
      ]
    },
    {
      "cell_type": "code",
      "source": [
        "sorted(country).sorted(country.reverse=True)"
      ],
      "metadata": {
        "colab": {
          "base_uri": "https://localhost:8080/",
          "height": 136
        },
        "id": "kVfhUrMJfUl-",
        "outputId": "db46db4d-5d83-44c2-b114-58614a796c30"
      },
      "execution_count": 69,
      "outputs": [
        {
          "output_type": "error",
          "ename": "SyntaxError",
          "evalue": "ignored",
          "traceback": [
            "\u001b[0;36m  File \u001b[0;32m\"<ipython-input-69-5007433475e8>\"\u001b[0;36m, line \u001b[0;32m1\u001b[0m\n\u001b[0;31m    sorted(country).sorted(country.reverse=True)\u001b[0m\n\u001b[0m                           ^\u001b[0m\n\u001b[0;31mSyntaxError\u001b[0m\u001b[0;31m:\u001b[0m expression cannot contain assignment, perhaps you meant \"==\"?\n"
          ]
        }
      ]
    },
    {
      "cell_type": "code",
      "source": [
        "country2 = country.copy()\n",
        "country2"
      ],
      "metadata": {
        "colab": {
          "base_uri": "https://localhost:8080/"
        },
        "id": "RVCPBCctffiK",
        "outputId": "97550f1c-d697-46bd-be14-4f6fed1df412"
      },
      "execution_count": 70,
      "outputs": [
        {
          "output_type": "execute_result",
          "data": {
            "text/plain": [
              "['일본', '아르헨티나', '멕시코', '캐나다', '미국', '아르헨티나', '브라질']"
            ]
          },
          "metadata": {},
          "execution_count": 70
        }
      ]
    },
    {
      "cell_type": "code",
      "source": [
        "country2.clear()"
      ],
      "metadata": {
        "id": "Camz2rbSfib4"
      },
      "execution_count": 71,
      "outputs": []
    },
    {
      "cell_type": "code",
      "source": [
        "country2"
      ],
      "metadata": {
        "colab": {
          "base_uri": "https://localhost:8080/"
        },
        "id": "t1YXlFzVfkts",
        "outputId": "1bc47dfd-be49-4bae-bf7e-0aad5c05b064"
      },
      "execution_count": 73,
      "outputs": [
        {
          "output_type": "execute_result",
          "data": {
            "text/plain": [
              "[]"
            ]
          },
          "metadata": {},
          "execution_count": 73
        }
      ]
    },
    {
      "cell_type": "code",
      "source": [
        "country2 = country.copy()\n",
        "country2"
      ],
      "metadata": {
        "colab": {
          "base_uri": "https://localhost:8080/"
        },
        "id": "1NQumXIpfof3",
        "outputId": "fa323dd6-2ff2-409c-f46d-d73d4a61c394"
      },
      "execution_count": 74,
      "outputs": [
        {
          "output_type": "execute_result",
          "data": {
            "text/plain": [
              "['일본', '아르헨티나', '멕시코', '캐나다', '미국', '아르헨티나', '브라질']"
            ]
          },
          "metadata": {},
          "execution_count": 74
        }
      ]
    },
    {
      "cell_type": "code",
      "source": [
        "del country2[:]\n",
        "country2"
      ],
      "metadata": {
        "colab": {
          "base_uri": "https://localhost:8080/"
        },
        "id": "WPmXMDQ2fqsZ",
        "outputId": "e16ccb28-af8b-4238-c3cc-1eb8e92bddec"
      },
      "execution_count": 75,
      "outputs": [
        {
          "output_type": "execute_result",
          "data": {
            "text/plain": [
              "[]"
            ]
          },
          "metadata": {},
          "execution_count": 75
        }
      ]
    },
    {
      "cell_type": "code",
      "source": [
        "for c in country:\n",
        " # for country in countries:\n",
        "      print(c) "
      ],
      "metadata": {
        "colab": {
          "base_uri": "https://localhost:8080/"
        },
        "id": "4-7fvnhgfsrZ",
        "outputId": "33bd30f9-5588-41d5-aab5-eb1e4ecbe563"
      },
      "execution_count": 76,
      "outputs": [
        {
          "output_type": "stream",
          "name": "stdout",
          "text": [
            "일본\n",
            "아르헨티나\n",
            "멕시코\n",
            "캐나다\n",
            "미국\n",
            "아르헨티나\n",
            "브라질\n"
          ]
        }
      ]
    },
    {
      "cell_type": "code",
      "source": [
        "for c in sorted(country):\n",
        " # for country in countries:\n",
        "      print(c) "
      ],
      "metadata": {
        "colab": {
          "base_uri": "https://localhost:8080/"
        },
        "id": "VkleWqiygC8m",
        "outputId": "7ca72adb-4c36-4821-c816-2635a56444d7"
      },
      "execution_count": 77,
      "outputs": [
        {
          "output_type": "stream",
          "name": "stdout",
          "text": [
            "멕시코\n",
            "미국\n",
            "브라질\n",
            "아르헨티나\n",
            "아르헨티나\n",
            "일본\n",
            "캐나다\n"
          ]
        }
      ]
    },
    {
      "cell_type": "code",
      "source": [
        "for c in country[::-1]:\n",
        " # for country in countries:\n",
        "      print(c) "
      ],
      "metadata": {
        "colab": {
          "base_uri": "https://localhost:8080/"
        },
        "id": "Ue3TfDZxgHc7",
        "outputId": "319a2cc4-52ef-43e7-8a00-578fbfce07a4"
      },
      "execution_count": 78,
      "outputs": [
        {
          "output_type": "stream",
          "name": "stdout",
          "text": [
            "브라질\n",
            "아르헨티나\n",
            "미국\n",
            "캐나다\n",
            "멕시코\n",
            "아르헨티나\n",
            "일본\n"
          ]
        }
      ]
    },
    {
      "cell_type": "code",
      "source": [
        "for i in enumerate(country):\n",
        "    print(i)"
      ],
      "metadata": {
        "colab": {
          "base_uri": "https://localhost:8080/"
        },
        "id": "9wlEXukvgO6T",
        "outputId": "b00bd9bc-3545-44c7-d7f4-a9786529e7c8"
      },
      "execution_count": 79,
      "outputs": [
        {
          "output_type": "stream",
          "name": "stdout",
          "text": [
            "(0, '일본')\n",
            "(1, '아르헨티나')\n",
            "(2, '멕시코')\n",
            "(3, '캐나다')\n",
            "(4, '미국')\n",
            "(5, '아르헨티나')\n",
            "(6, '브라질')\n"
          ]
        }
      ]
    },
    {
      "cell_type": "code",
      "source": [
        "for idx, val in enumerate(country):\n",
        "    print(idx, val)"
      ],
      "metadata": {
        "colab": {
          "base_uri": "https://localhost:8080/"
        },
        "id": "oKc4v8qKgUdn",
        "outputId": "eccb8a5c-7309-49d8-b580-fc15ec2ef2d2"
      },
      "execution_count": 81,
      "outputs": [
        {
          "output_type": "stream",
          "name": "stdout",
          "text": [
            "0 일본\n",
            "1 아르헨티나\n",
            "2 멕시코\n",
            "3 캐나다\n",
            "4 미국\n",
            "5 아르헨티나\n",
            "6 브라질\n"
          ]
        }
      ]
    },
    {
      "cell_type": "code",
      "source": [
        "for idx, val in enumerate(country):\n",
        "    # if idx % 2 == 0:\n",
        "    # if not(idx% 2):\n",
        "    #     print(idx,val)\n",
        "    if idx % 2: # 0보다 크다\n",
        "        continue\n",
        "    print(idx, val)        "
      ],
      "metadata": {
        "colab": {
          "base_uri": "https://localhost:8080/"
        },
        "id": "NlbyU8h8gidm",
        "outputId": "37e79ffb-750f-449a-b135-485cbf298844"
      },
      "execution_count": 82,
      "outputs": [
        {
          "output_type": "stream",
          "name": "stdout",
          "text": [
            "0 일본\n",
            "2 멕시코\n",
            "4 미국\n",
            "6 브라질\n"
          ]
        }
      ]
    },
    {
      "cell_type": "code",
      "source": [
        "for idx, val in enumerate(country):\n",
        "    if len(val) == 2:\n",
        "        print(idx, val)\n",
        "        break\n",
        "    print(\"진행...\", val)"
      ],
      "metadata": {
        "colab": {
          "base_uri": "https://localhost:8080/"
        },
        "id": "fmn4BXmZhIUN",
        "outputId": "dcf8557f-900c-41bc-851c-11df1ac23465"
      },
      "execution_count": 85,
      "outputs": [
        {
          "output_type": "stream",
          "name": "stdout",
          "text": [
            "0 일본\n"
          ]
        }
      ]
    },
    {
      "cell_type": "code",
      "source": [
        "numbers"
      ],
      "metadata": {
        "colab": {
          "base_uri": "https://localhost:8080/"
        },
        "id": "35RXrqMzhVfx",
        "outputId": "f2aea8e0-88b7-4004-e406-29bc7f17c5d1"
      },
      "execution_count": 86,
      "outputs": [
        {
          "output_type": "execute_result",
          "data": {
            "text/plain": [
              "[141, 170, 109, 108, 143, 196, 27, 182, 192, 108]"
            ]
          },
          "metadata": {},
          "execution_count": 86
        }
      ]
    },
    {
      "cell_type": "code",
      "source": [
        "lotto= random.choices(range(1,46), k=6)\n",
        "lotto"
      ],
      "metadata": {
        "colab": {
          "base_uri": "https://localhost:8080/"
        },
        "id": "4cbmmT5YggDt",
        "outputId": "d1ddeb18-0d96-4e1f-d83f-8e4106c24637"
      },
      "execution_count": 89,
      "outputs": [
        {
          "output_type": "execute_result",
          "data": {
            "text/plain": [
              "[41, 24, 13, 7, 26, 17]"
            ]
          },
          "metadata": {},
          "execution_count": 89
        }
      ]
    },
    {
      "cell_type": "code",
      "source": [
        "max(lotto),min(lotto), sum(lotto)"
      ],
      "metadata": {
        "colab": {
          "base_uri": "https://localhost:8080/"
        },
        "id": "L98o78igh7LM",
        "outputId": "7316ae05-7b4d-474c-e782-c1b250053a86"
      },
      "execution_count": 91,
      "outputs": [
        {
          "output_type": "execute_result",
          "data": {
            "text/plain": [
              "(41, 7, 128)"
            ]
          },
          "metadata": {},
          "execution_count": 91
        }
      ]
    },
    {
      "cell_type": "code",
      "source": [
        "rc = random.choices(range(1,21), k=20)\n",
        "rc"
      ],
      "metadata": {
        "colab": {
          "base_uri": "https://localhost:8080/"
        },
        "id": "0BaDbmRuiGlz",
        "outputId": "2f5c3b46-dea6-4ef0-aced-a53147050def"
      },
      "execution_count": 92,
      "outputs": [
        {
          "output_type": "execute_result",
          "data": {
            "text/plain": [
              "[6, 1, 1, 2, 18, 18, 4, 4, 3, 4, 18, 14, 10, 17, 20, 17, 8, 6, 2, 18]"
            ]
          },
          "metadata": {},
          "execution_count": 92
        }
      ]
    },
    {
      "cell_type": "code",
      "source": [
        "lunch = [(rc[i],rc[i+1]) for i in range(0,len(rc),2)]\n",
        "lunch"
      ],
      "metadata": {
        "colab": {
          "base_uri": "https://localhost:8080/"
        },
        "id": "dUy-O56hid5z",
        "outputId": "cb97fc3b-026a-411d-e650-627a982104be"
      },
      "execution_count": 95,
      "outputs": [
        {
          "output_type": "execute_result",
          "data": {
            "text/plain": [
              "[(6, 1),\n",
              " (1, 2),\n",
              " (18, 18),\n",
              " (4, 4),\n",
              " (3, 4),\n",
              " (18, 14),\n",
              " (10, 17),\n",
              " (20, 17),\n",
              " (8, 6),\n",
              " (2, 18)]"
            ]
          },
          "metadata": {},
          "execution_count": 95
        }
      ]
    },
    {
      "cell_type": "code",
      "source": [
        "# 랜덤으로 뽑은 20명의 번호를, 2명씩 묶고 싶다\n",
        "lunch2 = []\n",
        "for i in range(0,len(rc),2): # 20명이 랜덤하게 뽑힌 리스트를 for문으로 반복, 0부터 시작하고, 전체길이의, 증가폭 2인 range\n",
        "    lunch2.append(rc[i]) # 인덱스가 짝수번째인 값\n",
        "    lunch2.append(rc[i+1]) # 인덱스가 홀수번째인 값\n",
        "    tmp = (rc[i],rc[i+1])\n",
        "    lunch2.append(tmp)\n",
        "lunch2"
      ],
      "metadata": {
        "colab": {
          "base_uri": "https://localhost:8080/"
        },
        "id": "ughU36DRjIsG",
        "outputId": "425850b4-a02c-4577-9590-479caabdeafe"
      },
      "execution_count": 96,
      "outputs": [
        {
          "output_type": "execute_result",
          "data": {
            "text/plain": [
              "[6,\n",
              " 1,\n",
              " (6, 1),\n",
              " 1,\n",
              " 2,\n",
              " (1, 2),\n",
              " 18,\n",
              " 18,\n",
              " (18, 18),\n",
              " 4,\n",
              " 4,\n",
              " (4, 4),\n",
              " 3,\n",
              " 4,\n",
              " (3, 4),\n",
              " 18,\n",
              " 14,\n",
              " (18, 14),\n",
              " 10,\n",
              " 17,\n",
              " (10, 17),\n",
              " 20,\n",
              " 17,\n",
              " (20, 17),\n",
              " 8,\n",
              " 6,\n",
              " (8, 6),\n",
              " 2,\n",
              " 18,\n",
              " (2, 18)]"
            ]
          },
          "metadata": {},
          "execution_count": 96
        }
      ]
    },
    {
      "cell_type": "code",
      "source": [
        "# 랜덤으로 뽑은 20명의 번호를, 2명씩 묶고 싶다\n",
        "lunch2 = []\n",
        "for i in range(0,len(rc),): # 20명이 랜덤하게 뽑힌 리스트를 for문으로 반복, 0부터 시작하고, 전체길이의, 증가폭 2인 range\n",
        "    lunch2.append(rc[i]) # 인덱스가 짝수번째인 값\n",
        "    lunch2.append(rc[i+1]) # 인덱스가 홀수번째인 값\n",
        "    if i % 2: # i % 2:짝수가 아니다 -> 나머지가 1 나오면 True-> 홀수 일때\n",
        "        continue\n",
        "    tmp = (rc[i],rc[i+1])\n",
        "    lunch2.append(tmp)\n",
        "lunch2"
      ],
      "metadata": {
        "colab": {
          "base_uri": "https://localhost:8080/",
          "height": 263
        },
        "id": "uKwzy2FUkAuj",
        "outputId": "974eae4b-9dbd-41d7-d242-18ca16b3e4a5"
      },
      "execution_count": 97,
      "outputs": [
        {
          "output_type": "error",
          "ename": "IndexError",
          "evalue": "ignored",
          "traceback": [
            "\u001b[0;31m---------------------------------------------------------------------------\u001b[0m",
            "\u001b[0;31mIndexError\u001b[0m                                Traceback (most recent call last)",
            "\u001b[0;32m<ipython-input-97-0aeccb858fa4>\u001b[0m in \u001b[0;36m<module>\u001b[0;34m\u001b[0m\n\u001b[1;32m      3\u001b[0m \u001b[0;32mfor\u001b[0m \u001b[0mi\u001b[0m \u001b[0;32min\u001b[0m \u001b[0mrange\u001b[0m\u001b[0;34m(\u001b[0m\u001b[0;36m0\u001b[0m\u001b[0;34m,\u001b[0m\u001b[0mlen\u001b[0m\u001b[0;34m(\u001b[0m\u001b[0mrc\u001b[0m\u001b[0;34m)\u001b[0m\u001b[0;34m,\u001b[0m\u001b[0;34m)\u001b[0m\u001b[0;34m:\u001b[0m \u001b[0;31m# 20명이 랜덤하게 뽑힌 리스트를 for문으로 반복, 0부터 시작하고, 전체길이의, 증가폭 2인 range\u001b[0m\u001b[0;34m\u001b[0m\u001b[0;34m\u001b[0m\u001b[0m\n\u001b[1;32m      4\u001b[0m     \u001b[0mlunch2\u001b[0m\u001b[0;34m.\u001b[0m\u001b[0mappend\u001b[0m\u001b[0;34m(\u001b[0m\u001b[0mrc\u001b[0m\u001b[0;34m[\u001b[0m\u001b[0mi\u001b[0m\u001b[0;34m]\u001b[0m\u001b[0;34m)\u001b[0m \u001b[0;31m# 인덱스가 짝수번째인 값\u001b[0m\u001b[0;34m\u001b[0m\u001b[0;34m\u001b[0m\u001b[0m\n\u001b[0;32m----> 5\u001b[0;31m     \u001b[0mlunch2\u001b[0m\u001b[0;34m.\u001b[0m\u001b[0mappend\u001b[0m\u001b[0;34m(\u001b[0m\u001b[0mrc\u001b[0m\u001b[0;34m[\u001b[0m\u001b[0mi\u001b[0m\u001b[0;34m+\u001b[0m\u001b[0;36m1\u001b[0m\u001b[0;34m]\u001b[0m\u001b[0;34m)\u001b[0m \u001b[0;31m# 인덱스가 홀수번째인 값\u001b[0m\u001b[0;34m\u001b[0m\u001b[0;34m\u001b[0m\u001b[0m\n\u001b[0m\u001b[1;32m      6\u001b[0m     \u001b[0;32mif\u001b[0m \u001b[0mi\u001b[0m \u001b[0;34m%\u001b[0m \u001b[0;36m2\u001b[0m\u001b[0;34m:\u001b[0m \u001b[0;31m# i % 2:짝수가 아니다 -> 나머지가 1 나오면 True-> 홀수 일때\u001b[0m\u001b[0;34m\u001b[0m\u001b[0;34m\u001b[0m\u001b[0m\n\u001b[1;32m      7\u001b[0m         \u001b[0;32mcontinue\u001b[0m\u001b[0;34m\u001b[0m\u001b[0;34m\u001b[0m\u001b[0m\n",
            "\u001b[0;31mIndexError\u001b[0m: list index out of range"
          ]
        }
      ]
    },
    {
      "cell_type": "code",
      "source": [
        "#lunch = [(rc)[i]], rc[i+1]) for i in range(len(rc)) if i % 2 == 0]\n",
        "lunch = [(rc[i]), rc[i+1]) for i in range(len(rc)) if not i % 2]\n",
        "lunch"
      ],
      "metadata": {
        "colab": {
          "base_uri": "https://localhost:8080/",
          "height": 136
        },
        "id": "To6rvLZIlAxK",
        "outputId": "f19157b5-b13e-42ea-fcf9-84b407219011"
      },
      "execution_count": 98,
      "outputs": [
        {
          "output_type": "error",
          "ename": "SyntaxError",
          "evalue": "ignored",
          "traceback": [
            "\u001b[0;36m  File \u001b[0;32m\"<ipython-input-98-7c68591beea5>\"\u001b[0;36m, line \u001b[0;32m2\u001b[0m\n\u001b[0;31m    lunch = [(rc[i]), rc[i+1]) for i in range(len(rc)) if not i % 2]\u001b[0m\n\u001b[0m                             ^\u001b[0m\n\u001b[0;31mSyntaxError\u001b[0m\u001b[0;31m:\u001b[0m closing parenthesis ')' does not match opening parenthesis '['\n"
          ]
        }
      ]
    },
    {
      "cell_type": "markdown",
      "source": [
        "# 문자열"
      ],
      "metadata": {
        "id": "r57bb9OMlar_"
      }
    },
    {
      "cell_type": "code",
      "source": [
        "s = \"오늘의 점심은 돈까스입니다\"\n",
        "s"
      ],
      "metadata": {
        "colab": {
          "base_uri": "https://localhost:8080/",
          "height": 35
        },
        "id": "ywAQmL-3ldOZ",
        "outputId": "167b504b-4aa6-4f0e-8e92-259e1b487389"
      },
      "execution_count": 99,
      "outputs": [
        {
          "output_type": "execute_result",
          "data": {
            "text/plain": [
              "'오늘의 점심은 돈까스입니다'"
            ],
            "application/vnd.google.colaboratory.intrinsic+json": {
              "type": "string"
            }
          },
          "metadata": {},
          "execution_count": 99
        }
      ]
    },
    {
      "cell_type": "code",
      "source": [
        "s.replace(\"점심\",\"저녁\"), s"
      ],
      "metadata": {
        "colab": {
          "base_uri": "https://localhost:8080/"
        },
        "id": "zXgl2MMUlcEH",
        "outputId": "dfb5791b-b018-4c93-94fc-efb174831f8a"
      },
      "execution_count": 100,
      "outputs": [
        {
          "output_type": "execute_result",
          "data": {
            "text/plain": [
              "('오늘의 저녁은 돈까스입니다', '오늘의 점심은 돈까스입니다')"
            ]
          },
          "metadata": {},
          "execution_count": 100
        }
      ]
    },
    {
      "cell_type": "code",
      "source": [
        "s = \"오늘의 점심은 돈까스입니다, 오늘의 저녁은 돈까스입니다\"\n",
        "s"
      ],
      "metadata": {
        "colab": {
          "base_uri": "https://localhost:8080/",
          "height": 35
        },
        "id": "YdVs65Xvltff",
        "outputId": "54192345-a3e0-4132-8c41-9be3b7af3236"
      },
      "execution_count": 101,
      "outputs": [
        {
          "output_type": "execute_result",
          "data": {
            "text/plain": [
              "'오늘의 점심은 돈까스입니다, 오늘의 저녁은 돈까스입니다'"
            ],
            "application/vnd.google.colaboratory.intrinsic+json": {
              "type": "string"
            }
          },
          "metadata": {},
          "execution_count": 101
        }
      ]
    },
    {
      "cell_type": "code",
      "source": [
        "s.replace(\"돈까스\",\"파스타\"), s"
      ],
      "metadata": {
        "colab": {
          "base_uri": "https://localhost:8080/"
        },
        "id": "v2M9-x50l1XA",
        "outputId": "b3028f99-c492-4945-f6b8-3625014d89d3"
      },
      "execution_count": 104,
      "outputs": [
        {
          "output_type": "execute_result",
          "data": {
            "text/plain": [
              "('오늘의 점심은 파스타입니다, 오늘의 저녁은 파스타입니다', '오늘의 점심은 돈까스입니다, 오늘의 저녁은 돈까스입니다')"
            ]
          },
          "metadata": {},
          "execution_count": 104
        }
      ]
    },
    {
      "cell_type": "code",
      "source": [
        "s2 = \"오늘의 점심은 돈까스입니다, 오늘의 저녁은 돈까스입니다\"\n",
        "s2"
      ],
      "metadata": {
        "colab": {
          "base_uri": "https://localhost:8080/",
          "height": 35
        },
        "id": "C4dpXoqsmK0o",
        "outputId": "d73032ad-cc56-48e0-c4f6-036657680637"
      },
      "execution_count": 106,
      "outputs": [
        {
          "output_type": "execute_result",
          "data": {
            "text/plain": [
              "'오늘의 점심은 돈까스입니다, 오늘의 저녁은 돈까스입니다'"
            ],
            "application/vnd.google.colaboratory.intrinsic+json": {
              "type": "string"
            }
          },
          "metadata": {},
          "execution_count": 106
        }
      ]
    },
    {
      "cell_type": "code",
      "source": [
        "txt = \"비트코인 이더리움 리플\"\n",
        "txt.split(), txt # sep = 구분자 => ' '"
      ],
      "metadata": {
        "colab": {
          "base_uri": "https://localhost:8080/"
        },
        "id": "JweGm1r6mMso",
        "outputId": "1aeb5b0d-5d75-44ab-ca20-f51b21c968ce"
      },
      "execution_count": 107,
      "outputs": [
        {
          "output_type": "execute_result",
          "data": {
            "text/plain": [
              "(['비트코인', '이더리움', '리플'], '비트코인 이더리움 리플')"
            ]
          },
          "metadata": {},
          "execution_count": 107
        }
      ]
    },
    {
      "cell_type": "code",
      "source": [
        "txt2 = \"비트코인,이더리움,리플\"\n",
        "txt2.split(','), txt2.split(sep='.')"
      ],
      "metadata": {
        "colab": {
          "base_uri": "https://localhost:8080/"
        },
        "id": "lDrKcMb1mSwm",
        "outputId": "d30b81d5-67a1-4b9a-ffd2-e6142f2f8975"
      },
      "execution_count": 108,
      "outputs": [
        {
          "output_type": "execute_result",
          "data": {
            "text/plain": [
              "(['비트코인', '이더리움', '리플'], ['비트코인,이더리움,리플'])"
            ]
          },
          "metadata": {},
          "execution_count": 108
        }
      ]
    },
    {
      "cell_type": "code",
      "source": [
        "[i for i in s] # 리스트 컴프리헨션하면 -> 문자열이 한 글자씩 쪼개진 글자가 됨"
      ],
      "metadata": {
        "colab": {
          "base_uri": "https://localhost:8080/"
        },
        "id": "egFDnMlSmiJ0",
        "outputId": "55e2ce89-708d-423a-c7d5-1fcf9f4937e0"
      },
      "execution_count": 110,
      "outputs": [
        {
          "output_type": "execute_result",
          "data": {
            "text/plain": [
              "['오',\n",
              " '늘',\n",
              " '의',\n",
              " ' ',\n",
              " '점',\n",
              " '심',\n",
              " '은',\n",
              " ' ',\n",
              " '돈',\n",
              " '까',\n",
              " '스',\n",
              " '입',\n",
              " '니',\n",
              " '다',\n",
              " ',',\n",
              " ' ',\n",
              " '오',\n",
              " '늘',\n",
              " '의',\n",
              " ' ',\n",
              " '저',\n",
              " '녁',\n",
              " '은',\n",
              " ' ',\n",
              " '돈',\n",
              " '까',\n",
              " '스',\n",
              " '입',\n",
              " '니',\n",
              " '다']"
            ]
          },
          "metadata": {},
          "execution_count": 110
        }
      ]
    },
    {
      "cell_type": "code",
      "source": [
        "sep = [i for i in s]\n",
        "sep"
      ],
      "metadata": {
        "colab": {
          "base_uri": "https://localhost:8080/"
        },
        "id": "-r5XYGd2myE1",
        "outputId": "0c151b7d-1060-4d82-9b21-0e3736216406"
      },
      "execution_count": 112,
      "outputs": [
        {
          "output_type": "execute_result",
          "data": {
            "text/plain": [
              "['오',\n",
              " '늘',\n",
              " '의',\n",
              " ' ',\n",
              " '점',\n",
              " '심',\n",
              " '은',\n",
              " ' ',\n",
              " '돈',\n",
              " '까',\n",
              " '스',\n",
              " '입',\n",
              " '니',\n",
              " '다',\n",
              " ',',\n",
              " ' ',\n",
              " '오',\n",
              " '늘',\n",
              " '의',\n",
              " ' ',\n",
              " '저',\n",
              " '녁',\n",
              " '은',\n",
              " ' ',\n",
              " '돈',\n",
              " '까',\n",
              " '스',\n",
              " '입',\n",
              " '니',\n",
              " '다']"
            ]
          },
          "metadata": {},
          "execution_count": 112
        }
      ]
    },
    {
      "cell_type": "code",
      "source": [
        "\"\".join(sep)"
      ],
      "metadata": {
        "colab": {
          "base_uri": "https://localhost:8080/",
          "height": 35
        },
        "id": "e7ZInrz5m5wN",
        "outputId": "c335c8dd-5f66-4ccb-860a-2368bac05034"
      },
      "execution_count": 114,
      "outputs": [
        {
          "output_type": "execute_result",
          "data": {
            "text/plain": [
              "'오늘의 점심은 돈까스입니다, 오늘의 저녁은 돈까스입니다'"
            ],
            "application/vnd.google.colaboratory.intrinsic+json": {
              "type": "string"
            }
          },
          "metadata": {},
          "execution_count": 114
        }
      ]
    },
    {
      "cell_type": "code",
      "source": [
        "\",\".join(sep)"
      ],
      "metadata": {
        "colab": {
          "base_uri": "https://localhost:8080/",
          "height": 35
        },
        "id": "R7Y8gNM-nDBa",
        "outputId": "118dc4e6-a432-4dea-a78d-174976964783"
      },
      "execution_count": 116,
      "outputs": [
        {
          "output_type": "execute_result",
          "data": {
            "text/plain": [
              "'오,늘,의, ,점,심,은, ,돈,까,스,입,니,다,,, ,오,늘,의, ,저,녁,은, ,돈,까,스,입,니,다'"
            ],
            "application/vnd.google.colaboratory.intrinsic+json": {
              "type": "string"
            }
          },
          "metadata": {},
          "execution_count": 116
        }
      ]
    },
    {
      "cell_type": "code",
      "source": [
        "a = 'JamesPotato'\n",
        "a.upper(), a.lower()"
      ],
      "metadata": {
        "colab": {
          "base_uri": "https://localhost:8080/"
        },
        "id": "ICRBrSDRnJl8",
        "outputId": "e350379a-45c1-4fb2-8114-a541b390a2a5"
      },
      "execution_count": 118,
      "outputs": [
        {
          "output_type": "execute_result",
          "data": {
            "text/plain": [
              "('JAMESPOTATO', 'jamespotato')"
            ]
          },
          "metadata": {},
          "execution_count": 118
        }
      ]
    },
    {
      "cell_type": "code",
      "source": [
        "space =\"         공백이 많다       \"\n",
        "space.strip(),space.lstrip(),space.rstrip()"
      ],
      "metadata": {
        "colab": {
          "base_uri": "https://localhost:8080/"
        },
        "id": "_mqvMQIDnPn4",
        "outputId": "efbef508-06fe-42d5-de64-3d49e6d37c3d"
      },
      "execution_count": 120,
      "outputs": [
        {
          "output_type": "execute_result",
          "data": {
            "text/plain": [
              "('공백이 많다', '공백이 많다       ', '         공백이 많다')"
            ]
          },
          "metadata": {},
          "execution_count": 120
        }
      ]
    },
    {
      "cell_type": "code",
      "source": [
        "a = \"35\"\n",
        "a.zfill(6)"
      ],
      "metadata": {
        "colab": {
          "base_uri": "https://localhost:8080/",
          "height": 35
        },
        "id": "5jM4X0i5naIa",
        "outputId": "82a52347-f52c-4464-9fa0-032a6844e269"
      },
      "execution_count": 122,
      "outputs": [
        {
          "output_type": "execute_result",
          "data": {
            "text/plain": [
              "'000035'"
            ],
            "application/vnd.google.colaboratory.intrinsic+json": {
              "type": "string"
            }
          },
          "metadata": {},
          "execution_count": 122
        }
      ]
    },
    {
      "cell_type": "code",
      "source": [
        "s = \"안녕, 속리산 감자야, 지리산 감자야\"\n",
        "s.find(\"감자\")"
      ],
      "metadata": {
        "colab": {
          "base_uri": "https://localhost:8080/"
        },
        "id": "RDShfmW_nd5t",
        "outputId": "17556cc4-56b7-4a24-a749-0550e8d85691"
      },
      "execution_count": 123,
      "outputs": [
        {
          "output_type": "execute_result",
          "data": {
            "text/plain": [
              "8"
            ]
          },
          "metadata": {},
          "execution_count": 123
        }
      ]
    },
    {
      "cell_type": "code",
      "source": [
        "s = \"안녕, 속리산 감자야, 지리산 감자야\"\n",
        "s.count(\"감자\")"
      ],
      "metadata": {
        "colab": {
          "base_uri": "https://localhost:8080/"
        },
        "id": "g5sg5UeMnoLi",
        "outputId": "154d5ef2-44d4-449f-a58b-262d0821f8ed"
      },
      "execution_count": 124,
      "outputs": [
        {
          "output_type": "execute_result",
          "data": {
            "text/plain": [
              "2"
            ]
          },
          "metadata": {},
          "execution_count": 124
        }
      ]
    },
    {
      "cell_type": "code",
      "source": [],
      "metadata": {
        "id": "omVR4fG6ns8U"
      },
      "execution_count": null,
      "outputs": []
    }
  ]
}